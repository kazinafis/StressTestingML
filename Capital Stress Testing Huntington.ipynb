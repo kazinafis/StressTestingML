{
 "cells": [
  {
   "cell_type": "code",
   "execution_count": 4,
   "id": "5fed3861",
   "metadata": {},
   "outputs": [
    {
     "data": {
      "text/plain": [
       "(   IDRSSD  CERT                          NAME      CITY STNAME        DATE  \\\n",
       " 0   12311  6560  The Huntington National Bank  Columbus   Ohio  2023-12-31   \n",
       " 1   12311  6560  The Huntington National Bank  Columbus   Ohio  2023-09-30   \n",
       " 2   12311  6560  The Huntington National Bank  Columbus   Ohio  2023-06-30   \n",
       " 3   12311  6560  The Huntington National Bank  Columbus   Ohio  2023-03-31   \n",
       " 4   12311  6560  The Huntington National Bank  Columbus   Ohio  2022-12-31   \n",
       " \n",
       "    DRLNLS  YYYY_QQ  YYYYQQ Scenario.Name  ...  X10.year.Treasury.yield  \\\n",
       " 0  454575  2023 Q4  2023Q4        Actual  ...                      4.5   \n",
       " 1  321797  2023 Q3  2023Q3        Actual  ...                      4.2   \n",
       " 2  190826  2023 Q2  2023Q2        Actual  ...                      3.7   \n",
       " 3   98634  2023 Q1  2023Q1        Actual  ...                      3.7   \n",
       " 4  313420  2022 Q4  2022Q4        Actual  ...                      3.9   \n",
       " \n",
       "    BBB.corporate.yield  Mortgage.rate  Prime.rate  \\\n",
       " 0                  6.2            7.3         8.5   \n",
       " 1                  6.0            7.0         8.4   \n",
       " 2                  5.7            6.5         8.2   \n",
       " 3                  5.6            6.4         7.7   \n",
       " 4                  6.1            6.7         6.8   \n",
       " \n",
       "    Dow.Jones.Total.Stock.Market.Index..Level.  House.Price.Index..Level.  \\\n",
       " 0                                     47787.5                      310.5   \n",
       " 1                                     42788.7                      309.3   \n",
       " 2                                     44411.5                      303.0   \n",
       " 3                                     41136.6                      299.4   \n",
       " 4                                     38520.6                      295.9   \n",
       " \n",
       "    Commercial.Real.Estate.Price.Index..Level.  \\\n",
       " 0                                       348.9   \n",
       " 1                                       348.9   \n",
       " 2                                       354.0   \n",
       " 3                                       347.0   \n",
       " 4                                       350.0   \n",
       " \n",
       "    Market.Volatility.Index..Level.  recession_great  recession_covid  \n",
       " 0                             21.7                0                0  \n",
       " 1                             18.9                0                0  \n",
       " 2                             20.1                0                0  \n",
       " 3                             26.5                0                0  \n",
       " 4                             33.6                0                0  \n",
       " \n",
       " [5 rows x 28 columns],\n",
       " Index(['IDRSSD', 'CERT', 'NAME', 'CITY', 'STNAME', 'DATE', 'DRLNLS', 'YYYY_QQ',\n",
       "        'YYYYQQ', 'Scenario.Name', 'Real.GDP.growth', 'Nominal.GDP.growth',\n",
       "        'Real.disposable.income.growth', 'Nominal.disposable.income.growth',\n",
       "        'Unemployment.rate', 'CPI.inflation.rate', 'X3.month.Treasury.rate',\n",
       "        'X5.year.Treasury.yield', 'X10.year.Treasury.yield',\n",
       "        'BBB.corporate.yield', 'Mortgage.rate', 'Prime.rate',\n",
       "        'Dow.Jones.Total.Stock.Market.Index..Level.',\n",
       "        'House.Price.Index..Level.',\n",
       "        'Commercial.Real.Estate.Price.Index..Level.',\n",
       "        'Market.Volatility.Index..Level.', 'recession_great',\n",
       "        'recession_covid'],\n",
       "       dtype='object'))"
      ]
     },
     "execution_count": 4,
     "metadata": {},
     "output_type": "execute_result"
    }
   ],
   "source": [
    "import pandas as pd\n",
    "# Load the Huntington dataset\n",
    "huntington_data = pd.read_csv('/Users/kazinafis/Downloads/Huntington.csv')\n",
    "\n",
    "# Display the first few rows to understand the structure and check for any obvious issues\n",
    "huntington_data.head(), huntington_data.columns\n"
   ]
  },
  {
   "cell_type": "code",
   "execution_count": 5,
   "id": "c0982f8d",
   "metadata": {},
   "outputs": [
    {
     "data": {
      "text/plain": [
       "(   Real.GDP.growth  Unemployment.rate  CPI.inflation.rate  Mortgage.rate  \\\n",
       " 0              1.5                3.7                 2.8            7.3   \n",
       " 1              4.9                3.7                 3.6            7.0   \n",
       " 2              2.1                3.6                 2.7            6.5   \n",
       " 3              2.2                3.5                 3.8            6.4   \n",
       " 4              2.6                3.6                 4.2            6.7   \n",
       " \n",
       "    BBB.corporate.yield  DRLNLS  \n",
       " 0                  6.2  454575  \n",
       " 1                  6.0  321797  \n",
       " 2                  5.7  190826  \n",
       " 3                  5.6   98634  \n",
       " 4                  6.1  313420  ,\n",
       " Real.GDP.growth        0\n",
       " Unemployment.rate      0\n",
       " CPI.inflation.rate     0\n",
       " Mortgage.rate          0\n",
       " BBB.corporate.yield    0\n",
       " DRLNLS                 0\n",
       " dtype: int64)"
      ]
     },
     "execution_count": 5,
     "metadata": {},
     "output_type": "execute_result"
    }
   ],
   "source": [
    "# Step 1: Convert the 'DATE' column to datetime format\n",
    "huntington_data['DATE'] = pd.to_datetime(huntington_data['DATE'])\n",
    "\n",
    "# Step 2: Select relevant features based on consistency with previous analysis\n",
    "selected_features_huntington = [\n",
    "    'Real.GDP.growth', 'Unemployment.rate', 'CPI.inflation.rate', \n",
    "    'Mortgage.rate', 'BBB.corporate.yield', 'DRLNLS'\n",
    "]\n",
    "\n",
    "# Create a new DataFrame with these selected features\n",
    "huntington_selected = huntington_data[selected_features_huntington]\n",
    "\n",
    "# Step 3: Check for and handle missing values\n",
    "missing_values_huntington = huntington_selected.isnull().sum()\n",
    "\n",
    "# Display the prepared data and any missing values\n",
    "huntington_selected.head(), missing_values_huntington\n"
   ]
  },
  {
   "cell_type": "code",
   "execution_count": 8,
   "id": "0657e088",
   "metadata": {},
   "outputs": [
    {
     "data": {
      "text/plain": [
       "(22649403772.175438, 27043594232.28286)"
      ]
     },
     "execution_count": 8,
     "metadata": {},
     "output_type": "execute_result"
    }
   ],
   "source": [
    "from sklearn.model_selection import train_test_split\n",
    "from sklearn.linear_model import LinearRegression\n",
    "from sklearn.ensemble import RandomForestRegressor\n",
    "from sklearn.metrics import mean_squared_error\n",
    "\n",
    "\n",
    "# Splitting the data into training and testing sets\n",
    "X_huntington = huntington_selected.drop('DRLNLS', axis=1)\n",
    "y_huntington = huntington_selected['DRLNLS']\n",
    "X_train_hunt, X_test_hunt, y_train_hunt, y_test_hunt = train_test_split(X_huntington, y_huntington, test_size=0.2, random_state=42)\n",
    "\n",
    "# Initialize and train a Linear Regression model\n",
    "linear_model_hunt = LinearRegression()\n",
    "linear_model_hunt.fit(X_train_hunt, y_train_hunt)\n",
    "\n",
    "# Initialize and train a Random Forest model\n",
    "rf_model_hunt = RandomForestRegressor(n_estimators=100, random_state=42)\n",
    "rf_model_hunt.fit(X_train_hunt, y_train_hunt)\n",
    "\n",
    "# Predict on the testing set for both models\n",
    "y_pred_linear_hunt = linear_model_hunt.predict(X_test_hunt)\n",
    "y_pred_rf_hunt = rf_model_hunt.predict(X_test_hunt)\n",
    "\n",
    "# Calculate the Mean Squared Error for both models\n",
    "mse_linear_hunt = mean_squared_error(y_test_hunt, y_pred_linear_hunt)\n",
    "mse_rf_hunt = mean_squared_error(y_test_hunt, y_pred_rf_hunt)\n",
    "\n",
    "mse_linear_hunt, mse_rf_hunt\n"
   ]
  },
  {
   "cell_type": "code",
   "execution_count": 10,
   "id": "9a692aaa",
   "metadata": {},
   "outputs": [
    {
     "data": {
      "text/html": [
       "<div>\n",
       "<style scoped>\n",
       "    .dataframe tbody tr th:only-of-type {\n",
       "        vertical-align: middle;\n",
       "    }\n",
       "\n",
       "    .dataframe tbody tr th {\n",
       "        vertical-align: top;\n",
       "    }\n",
       "\n",
       "    .dataframe thead th {\n",
       "        text-align: right;\n",
       "    }\n",
       "</style>\n",
       "<table border=\"1\" class=\"dataframe\">\n",
       "  <thead>\n",
       "    <tr style=\"text-align: right;\">\n",
       "      <th></th>\n",
       "      <th>Scenario Date</th>\n",
       "      <th>Linear Regression Predictions</th>\n",
       "      <th>Random Forest Predictions</th>\n",
       "    </tr>\n",
       "  </thead>\n",
       "  <tbody>\n",
       "    <tr>\n",
       "      <th>0</th>\n",
       "      <td>2024 Q1</td>\n",
       "      <td>307929.880050</td>\n",
       "      <td>181613.23</td>\n",
       "    </tr>\n",
       "    <tr>\n",
       "      <th>1</th>\n",
       "      <td>2024 Q2</td>\n",
       "      <td>458768.027012</td>\n",
       "      <td>204561.26</td>\n",
       "    </tr>\n",
       "    <tr>\n",
       "      <th>2</th>\n",
       "      <td>2024 Q3</td>\n",
       "      <td>518733.530365</td>\n",
       "      <td>232793.51</td>\n",
       "    </tr>\n",
       "    <tr>\n",
       "      <th>3</th>\n",
       "      <td>2024 Q4</td>\n",
       "      <td>594805.690191</td>\n",
       "      <td>612688.47</td>\n",
       "    </tr>\n",
       "    <tr>\n",
       "      <th>4</th>\n",
       "      <td>2025 Q1</td>\n",
       "      <td>628442.955615</td>\n",
       "      <td>752768.50</td>\n",
       "    </tr>\n",
       "  </tbody>\n",
       "</table>\n",
       "</div>"
      ],
      "text/plain": [
       "  Scenario Date  Linear Regression Predictions  Random Forest Predictions\n",
       "0       2024 Q1                  307929.880050                  181613.23\n",
       "1       2024 Q2                  458768.027012                  204561.26\n",
       "2       2024 Q3                  518733.530365                  232793.51\n",
       "3       2024 Q4                  594805.690191                  612688.47\n",
       "4       2025 Q1                  628442.955615                  752768.50"
      ]
     },
     "execution_count": 10,
     "metadata": {},
     "output_type": "execute_result"
    }
   ],
   "source": [
    "# Load the Supervisory Adverse Scenario Data\n",
    "supervisory_data = pd.read_csv('/Users/kazinafis/Downloads/2024-Table_4A_Supervisory_Severely_Adverse_Domestic.csv')\n",
    "\n",
    "# Select and align features for the Supervisory data to match the Huntington model features\n",
    "supervisory_features_selected = supervisory_data[['Real GDP growth', 'Unemployment rate', 'CPI inflation rate', \n",
    "                                                  'Mortgage rate', 'BBB corporate yield']]\n",
    "supervisory_features_selected.columns = ['Real.GDP.growth', 'Unemployment.rate', 'CPI.inflation.rate', \n",
    "                                         'Mortgage.rate', 'BBB.corporate.yield']\n",
    "\n",
    "# Apply the trained models to the supervisory data\n",
    "predictions_linear_supervisory = linear_model_hunt.predict(supervisory_features_selected)\n",
    "predictions_rf_supervisory = rf_model_hunt.predict(supervisory_features_selected)\n",
    "\n",
    "# Display predictions for the first few scenarios\n",
    "pd.DataFrame({\n",
    "    'Scenario Date': supervisory_data['Date'],\n",
    "    'Linear Regression Predictions': predictions_linear_supervisory,\n",
    "    'Random Forest Predictions': predictions_rf_supervisory\n",
    "}).head()\n"
   ]
  },
  {
   "cell_type": "code",
   "execution_count": 14,
   "id": "4c2f033d",
   "metadata": {},
   "outputs": [
    {
     "data": {
      "image/png": "[encoded data removed]",
      "text/plain": [
       "<Figure size 864x432 with 2 Axes>"
      ]
     },
     "metadata": {
      "needs_background": "light"
     },
     "output_type": "display_data"
    }
   ],
   "source": [
    "import matplotlib.pyplot as plt\n",
    "\n",
    "# Plotting predictions vs. actual values for Huntington data\n",
    "plt.figure(figsize=(12, 6))\n",
    "plt.subplot(1, 2, 1)\n",
    "plt.scatter(range(len(y_test_hunt)), y_test_hunt, color='blue', label='Actual Values', alpha=0.6)\n",
    "plt.scatter(range(len(y_test_hunt)), y_pred_linear_hunt, color='red', label='Linear Regression Predictions', alpha=0.6)\n",
    "plt.scatter(range(len(y_test_hunt)), y_pred_rf_hunt, color='green', label='Random Forest Predictions', alpha=0.6)\n",
    "plt.title('Huntington Data: Actual vs Predictions')\n",
    "plt.xlabel('Sample Index')\n",
    "plt.ylabel('DRLNLS')\n",
    "plt.legend()\n",
    "\n",
    "# Plotting model predictions on Supervisory scenario data\n",
    "plt.subplot(1, 2, 2)\n",
    "plt.plot(predictions_linear_supervisory, label='Linear Regression Predictions', marker='o')\n",
    "plt.plot(predictions_rf_supervisory, label='Random Forest Predictions', marker='x')\n",
    "plt.title('Supervisory Data: Model Predictions')\n",
    "plt.xlabel('Scenario Index')\n",
    "plt.ylabel('Predicted DRLNLS')\n",
    "plt.legend()\n",
    "plt.tight_layout()\n",
    "plt.show()\n"
   ]
  },
  {
   "cell_type": "code",
   "execution_count": 18,
   "id": "4276961d",
   "metadata": {},
   "outputs": [
    {
     "name": "stdout",
     "output_type": "stream",
     "text": [
      "Requirement already satisfied: numpy in /opt/anaconda3/lib/python3.8/site-packages (1.20.1)\r\n"
     ]
    },
    {
     "data": {
      "image/png": "[encoded data removed]",
      "text/plain": [
       "<Figure size 720x432 with 1 Axes>"
      ]
     },
     "metadata": {
      "needs_background": "light"
     },
     "output_type": "display_data"
    }
   ],
   "source": [
    "!pip install numpy\n",
    "import numpy as np\n",
    "\n",
    "# Get feature importances from the Random Forest model\n",
    "importances = rf_model_hunt.feature_importances_\n",
    "indices = np.argsort(importances)[::-1]\n",
    "\n",
    "# Plot the feature importances\n",
    "plt.figure(figsize=(10, 6))\n",
    "plt.title('Feature Importances in Random Forest Model')\n",
    "plt.bar(range(X_huntington.shape[1]), importances[indices], align='center')\n",
    "plt.xticks(range(X_huntington.shape[1]), X_huntington.columns[indices], rotation=90)\n",
    "plt.xlabel('Feature')\n",
    "plt.ylabel('Importance')\n",
    "plt.show()\n"
   ]
  },
  {
   "cell_type": "code",
   "execution_count": 19,
   "id": "776bdb96",
   "metadata": {},
   "outputs": [
    {
     "data": {
      "text/plain": [
       "((50035765353.43746, 33094628184.89902),\n",
       " (31156929173.95614, 19341657520.27985))"
      ]
     },
     "execution_count": 19,
     "metadata": {},
     "output_type": "execute_result"
    }
   ],
   "source": [
    "from sklearn.model_selection import cross_val_score\n",
    "\n",
    "# Set up the number of folds\n",
    "num_folds = 5\n",
    "\n",
    "# Perform cross-validation for the Linear Regression model\n",
    "cv_scores_linear = cross_val_score(linear_model_hunt, X_huntington, y_huntington, cv=num_folds, scoring='neg_mean_squared_error')\n",
    "\n",
    "# Perform cross-validation for the Random Forest model\n",
    "cv_scores_rf = cross_val_score(rf_model_hunt, X_huntington, y_huntington, cv=num_folds, scoring='neg_mean_squared_error')\n",
    "\n",
    "# The scores are returned as negative MSE (by convention), so we'll take the negative to make them positive MSE\n",
    "cv_scores_linear_positive = -cv_scores_linear\n",
    "cv_scores_rf_positive = -cv_scores_rf\n",
    "\n",
    "# Calculate the mean and standard deviation of the MSE for both models across all folds\n",
    "cv_mean_mse_linear = cv_scores_linear_positive.mean()\n",
    "cv_std_mse_linear = cv_scores_linear_positive.std()\n",
    "\n",
    "cv_mean_mse_rf = cv_scores_rf_positive.mean()\n",
    "cv_std_mse_rf = cv_scores_rf_positive.std()\n",
    "\n",
    "(cv_mean_mse_linear, cv_std_mse_linear), (cv_mean_mse_rf, cv_std_mse_rf)\n"
   ]
  },
  {
   "cell_type": "code",
   "execution_count": 20,
   "id": "1a4900c3",
   "metadata": {},
   "outputs": [
    {
     "name": "stdout",
     "output_type": "stream",
     "text": [
      "Fitting 5 folds for each of 108 candidates, totalling 540 fits\n"
     ]
    },
    {
     "data": {
      "text/plain": [
       "({'max_depth': 10,\n",
       "  'min_samples_leaf': 1,\n",
       "  'min_samples_split': 2,\n",
       "  'n_estimators': 150},\n",
       " 30226633963.031605)"
      ]
     },
     "execution_count": 20,
     "metadata": {},
     "output_type": "execute_result"
    }
   ],
   "source": [
    "from sklearn.model_selection import GridSearchCV\n",
    "\n",
    "# Define the parameter grid\n",
    "param_grid = {\n",
    "    'n_estimators': [50, 100, 150],\n",
    "    'max_depth': [None, 10, 20, 30],\n",
    "    'min_samples_split': [2, 5, 10],\n",
    "    'min_samples_leaf': [1, 2, 4]\n",
    "}\n",
    "\n",
    "# Initialize the grid search model\n",
    "grid_search = GridSearchCV(estimator=RandomForestRegressor(random_state=42),\n",
    "                           param_grid=param_grid,\n",
    "                           cv=5,  # Number of folds in cross-validation\n",
    "                           scoring='neg_mean_squared_error',  # MSE to evaluate performance\n",
    "                           n_jobs=-1,  # Use all available cores\n",
    "                           verbose=2)\n",
    "\n",
    "# Perform grid search (this may take some time)\n",
    "grid_search.fit(X_huntington, y_huntington)\n",
    "\n",
    "# Get the best parameters and the corresponding mean cross-validated MSE\n",
    "best_params = grid_search.best_params_\n",
    "best_cv_score = -grid_search.best_score_  # Negate to get positive MSE value\n",
    "\n",
    "(best_params, best_cv_score)\n"
   ]
  },
  {
   "cell_type": "code",
   "execution_count": 21,
   "id": "c7748f33",
   "metadata": {},
   "outputs": [
    {
     "data": {
      "text/plain": [
       "27161329117.288273"
      ]
     },
     "execution_count": 21,
     "metadata": {},
     "output_type": "execute_result"
    }
   ],
   "source": [
    "# Re-train the Random Forest model with the best parameters\n",
    "tuned_rf_model_hunt = RandomForestRegressor(\n",
    "    n_estimators=150,\n",
    "    max_depth=10,\n",
    "    min_samples_leaf=1,\n",
    "    min_samples_split=2,\n",
    "    random_state=42\n",
    ")\n",
    "tuned_rf_model_hunt.fit(X_train_hunt, y_train_hunt)\n",
    "\n",
    "# Evaluate the tuned model on the test set\n",
    "tuned_y_pred_rf_hunt = tuned_rf_model_hunt.predict(X_test_hunt)\n",
    "tuned_mse_rf_hunt = mean_squared_error(y_test_hunt, tuned_y_pred_rf_hunt)\n",
    "\n",
    "tuned_mse_rf_hunt\n"
   ]
  },
  {
   "cell_type": "code",
   "execution_count": null,
   "id": "c5f78eef",
   "metadata": {},
   "outputs": [],
   "source": []
  }
 ],
 "metadata": {
  "kernelspec": {
   "display_name": "Python 3",
   "language": "python",
   "name": "python3"
  },
  "language_info": {
   "codemirror_mode": {
    "name": "ipython",
    "version": 3
   },
   "file_extension": ".py",
   "mimetype": "text/x-python",
   "name": "python",
   "nbconvert_exporter": "python",
   "pygments_lexer": "ipython3",
   "version": "3.8.8"
  }
 },
 "nbformat": 4,
 "nbformat_minor": 5
}
